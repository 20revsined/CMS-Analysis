{
 "cells": [
  {
   "cell_type": "markdown",
   "metadata": {
    "collapsed": false,
    "jupyter": {
     "outputs_hidden": false
    }
   },
   "source": [
    "## User Story:\n",
    "The IT department of _**Plain Corp**_ has implemented a custom-built _Computer Management Solution (CMS)_ which comes with a feature that reports information about computers in their environment such as metadata, installed programs and logins. The current problem faced by the IT team is that the reports created by CMS do not answer all the questions they have about the computers in their environment. Luckily, they figured out that the CMS stores its raw data in a SQLite (v3.45.0)  _database (DB)_ file and that they could write custom SQL queries to report the information not provided within the CMS reports.\n",
    "\n",
    "## Goal:\n",
    "Your job will be to update this Jupyter Notebook with the SQL queries needed to meet the IT team’s reporting needs. It is recommended to use a Database IDE to help with query writing and data exploration.\n",
    "\n",
    "## Directions:\n",
    "Download the attached zip file which contains all the files you need to complete this assignment. Below is a description of each of the three files within the attached zip file:\n",
    "- **cms.sqlite**: The database you must query from to complete this assignment.\n",
    "- **cms_data_dictionary.txt**: A data dictionary describing the tables within this database.\n",
    "- **GA Mission - Data Analyst.ipynb**: The Jupyter Notebook file you must update to complete the assignment. Rules to abide by while completing this assignment are listed within this Jupyter Notebook.\n",
    "\n",
    "## Our Expectations\n",
    "This assignment <ins>**should take you no longer than 2 hours**</ins> to complete. Make sure your outputs are visible in a web browser when uploaded to a public repository and that they are presented in a way that is understandable by someone with some technical experience but no programming experience. Extra rules to abide by are described in the included Juptyter Notebook file.\n",
    "\n",
    "We would prefer that you share the code with us by pushing it to a public repository in the hosting provider of your choosing. If you do not want to upload it to a public repository then you can zip up the repository folder on your machine and send it to us via email. If you go that route, please make sure that the .git folder is included.\n",
    "\n",
    "We recommend  that you use a Database IDE (e.g., DBeaver, Datagrip, etc.) to assist with query writing and data exploration. If you have any questions, please contact us and we will do our best to clarify anything that is unclear.\n",
    "\n",
    "## Rules:\n",
    "- The code should be stored in a git repository.\n",
    "- With the exception of ***Pandas***, you can use any Python Packages you like.\n",
    "- Do not edit the data in the **cms.sqlite** DB file.\n",
    "- Your query results must be output in a _Pandas DataFrame (PD)_.\n",
    "- Questions 4 and 5 are written answer questions where no code or SQL is necessary.\n",
    "- Question 6 is a written answer question that may require code or SQL depending on your answer. This question can be thought of as a chance to share any observations you've made or perform a light EDA on the data. There are no right or wrong answers for this question."
   ]
  },
  {
   "cell_type": "markdown",
   "metadata": {
    "collapsed": false,
    "jupyter": {
     "outputs_hidden": false
    }
   },
   "source": [
    "# Questions"
   ]
  },
  {
   "cell_type": "code",
   "execution_count": 165,
   "metadata": {
    "collapsed": false,
    "is_executing": true,
    "jupyter": {
     "outputs_hidden": false
    }
   },
   "outputs": [],
   "source": [
    "import pandas as pd\n",
    "import re\n",
    "import sqlite3\n",
    "\n",
    "# Establish the connection to the cms.sqlite database.\n",
    "cms_database = sqlite3.connect(\"cms.sqlite\")\n",
    "\n",
    "# Ensure that all columns are displayed on one line.\n",
    "pd.set_option(\"display.expand_frame_repr\", False)"
   ]
  },
  {
   "cell_type": "markdown",
   "metadata": {
    "collapsed": false,
    "jupyter": {
     "outputs_hidden": false
    }
   },
   "source": [
    " <font size='5'> 1. Count how many Admin and Regular computers are in the database.</font>"
   ]
  },
  {
   "cell_type": "code",
   "execution_count": 172,
   "metadata": {
    "ExecuteTime": {
     "end_time": "2024-01-25T16:23:26.526380800Z",
     "start_time": "2024-01-25T16:23:26.513025400Z"
    },
    "collapsed": false,
    "jupyter": {
     "outputs_hidden": false
    }
   },
   "outputs": [
    {
     "data": {
      "text/html": [
       "<div>\n",
       "<style scoped>\n",
       "    .dataframe tbody tr th:only-of-type {\n",
       "        vertical-align: middle;\n",
       "    }\n",
       "\n",
       "    .dataframe tbody tr th {\n",
       "        vertical-align: top;\n",
       "    }\n",
       "\n",
       "    .dataframe thead th {\n",
       "        text-align: right;\n",
       "    }\n",
       "</style>\n",
       "<table border=\"1\" class=\"dataframe\">\n",
       "  <thead>\n",
       "    <tr style=\"text-align: right;\">\n",
       "      <th></th>\n",
       "      <th>Number of Admin and Regular Computers</th>\n",
       "    </tr>\n",
       "  </thead>\n",
       "  <tbody>\n",
       "    <tr>\n",
       "      <th>0</th>\n",
       "      <td>32</td>\n",
       "    </tr>\n",
       "  </tbody>\n",
       "</table>\n",
       "</div>"
      ],
      "text/plain": [
       "   Number of Admin and Regular Computers\n",
       "0                                     32"
      ]
     },
     "execution_count": 172,
     "metadata": {},
     "output_type": "execute_result"
    }
   ],
   "source": [
    "# SQL query to retrieve the number of computers whose computer type is either 'Admin' or 'Regular'.\n",
    "\n",
    "query = \"\"\"\n",
    "SELECT\n",
    "    COUNT(*) AS 'Number of Admin and Regular Computers'\n",
    "FROM computers WHERE computer_type = 'Admin' OR computer_type = 'Regular'\n",
    "\"\"\"\n",
    "num_admin_and_regular = pd.read_sql_query(query, cms_database)\n",
    "\n",
    "num_admin_and_regular"
   ]
  },
  {
   "cell_type": "markdown",
   "metadata": {
    "collapsed": false,
    "jupyter": {
     "outputs_hidden": false
    }
   },
   "source": [
    "<font size='5'>2a. Identify all non-admin computers with the programs **Bitwarden**, **Quickpass** or **1password** installed, please note that the listed program names may not match exactly to the program names in the database. Be sure to include the computer names, operating system, program names and program version in the PD output.</font>"
   ]
  },
  {
   "cell_type": "code",
   "execution_count": 180,
   "metadata": {
    "ExecuteTime": {
     "end_time": "2024-01-25T16:23:26.569293100Z",
     "start_time": "2024-01-25T16:23:26.528381300Z"
    },
    "collapsed": false,
    "jupyter": {
     "outputs_hidden": false
    }
   },
   "outputs": [
    {
     "data": {
      "text/html": [
       "<div>\n",
       "<style scoped>\n",
       "    .dataframe tbody tr th:only-of-type {\n",
       "        vertical-align: middle;\n",
       "    }\n",
       "\n",
       "    .dataframe tbody tr th {\n",
       "        vertical-align: top;\n",
       "    }\n",
       "\n",
       "    .dataframe thead th {\n",
       "        text-align: right;\n",
       "    }\n",
       "</style>\n",
       "<table border=\"1\" class=\"dataframe\">\n",
       "  <thead>\n",
       "    <tr style=\"text-align: right;\">\n",
       "      <th></th>\n",
       "      <th>Computer Name</th>\n",
       "      <th>Computer Operating System</th>\n",
       "      <th>Program Name</th>\n",
       "      <th>Program Version</th>\n",
       "    </tr>\n",
       "  </thead>\n",
       "  <tbody>\n",
       "    <tr>\n",
       "      <th>0</th>\n",
       "      <td>DESKTOP-O23A1M7</td>\n",
       "      <td>Microsoft Windows 11 Pro</td>\n",
       "      <td>Quickpass</td>\n",
       "      <td>15.0.21225.01</td>\n",
       "    </tr>\n",
       "    <tr>\n",
       "      <th>1</th>\n",
       "      <td>LAPTOP-55433J3D</td>\n",
       "      <td>Microsoft Windows 11 Business</td>\n",
       "      <td>Quickpass</td>\n",
       "      <td>15.0.21225.01</td>\n",
       "    </tr>\n",
       "    <tr>\n",
       "      <th>2</th>\n",
       "      <td>PLAINCORP-1012</td>\n",
       "      <td>Microsoft Windows 11 Pro</td>\n",
       "      <td>1password</td>\n",
       "      <td>2.7.4</td>\n",
       "    </tr>\n",
       "    <tr>\n",
       "      <th>3</th>\n",
       "      <td>PLAINCORP-1014</td>\n",
       "      <td>Microsoft Windows 11 Business</td>\n",
       "      <td>1password</td>\n",
       "      <td>2.7.4</td>\n",
       "    </tr>\n",
       "    <tr>\n",
       "      <th>4</th>\n",
       "      <td>PLAINCORP-1014</td>\n",
       "      <td>Microsoft Windows 11 Business</td>\n",
       "      <td>Quickpass</td>\n",
       "      <td>15.0.18198.01</td>\n",
       "    </tr>\n",
       "    <tr>\n",
       "      <th>5</th>\n",
       "      <td>PLAINCORP-DRAKE</td>\n",
       "      <td>Microsoft Windows 11 Pro</td>\n",
       "      <td>Quickpass</td>\n",
       "      <td>15.0.21225.01</td>\n",
       "    </tr>\n",
       "    <tr>\n",
       "      <th>6</th>\n",
       "      <td>PLAINCORP-WILL-P</td>\n",
       "      <td>Microsoft Windows 11 Business</td>\n",
       "      <td>Quickpass</td>\n",
       "      <td>15.0.21225.01</td>\n",
       "    </tr>\n",
       "    <tr>\n",
       "      <th>7</th>\n",
       "      <td>WINDEV2303EVAL</td>\n",
       "      <td>Microsoft Windows 11 Enterprise Evaluation</td>\n",
       "      <td>Quickpass</td>\n",
       "      <td>15.0.21225.01</td>\n",
       "    </tr>\n",
       "  </tbody>\n",
       "</table>\n",
       "</div>"
      ],
      "text/plain": [
       "      Computer Name                   Computer Operating System Program Name Program Version\n",
       "0   DESKTOP-O23A1M7                    Microsoft Windows 11 Pro    Quickpass   15.0.21225.01\n",
       "1   LAPTOP-55433J3D               Microsoft Windows 11 Business    Quickpass   15.0.21225.01\n",
       "2    PLAINCORP-1012                    Microsoft Windows 11 Pro    1password           2.7.4\n",
       "3    PLAINCORP-1014               Microsoft Windows 11 Business    1password           2.7.4\n",
       "4    PLAINCORP-1014               Microsoft Windows 11 Business    Quickpass   15.0.18198.01\n",
       "5   PLAINCORP-DRAKE                    Microsoft Windows 11 Pro    Quickpass   15.0.21225.01\n",
       "6  PLAINCORP-WILL-P               Microsoft Windows 11 Business    Quickpass   15.0.21225.01\n",
       "7    WINDEV2303EVAL  Microsoft Windows 11 Enterprise Evaluation    Quickpass   15.0.21225.01"
      ]
     },
     "execution_count": 180,
     "metadata": {},
     "output_type": "execute_result"
    }
   ],
   "source": [
    "# Query to retrieve all computers' (excluding duplicates) names, operating systens, program names, and\n",
    "# program versions that are not admin computers and have either\n",
    "# Bitwarden, Quickpass, or 1password installed.\n",
    "\n",
    "query = \"\"\"SELECT\n",
    "DISTINCT\n",
    "    computers.computer_name AS 'Computer Name',\n",
    "    computers.operating_system AS 'Computer Operating System',\n",
    "    installed_programs.program_name AS 'Program Name',\n",
    "    installed_programs.program_version AS 'Program Version'\n",
    "FROM installed_programs\n",
    "JOIN computers ON installed_programs.computer_name = computers.computer_name\n",
    "WHERE computers.computer_type != 'Admin'\n",
    "AND (installed_programs.program_name LIKE '1%' OR installed_programs.program_name LIKE 'bit%'\n",
    "OR installed_programs.program_name LIKE 'quick%')\n",
    "\"\"\"\n",
    "\n",
    "non_admin_computers_with_programs = pd.read_sql_query(query, cms_database)\n",
    "non_admin_computers_with_programs"
   ]
  },
  {
   "cell_type": "markdown",
   "metadata": {
    "collapsed": false,
    "jupyter": {
     "outputs_hidden": false
    }
   },
   "source": [
    "<font size='5'>2b. Report the latest version of each program and how many computers have said programs installed.</font>"
   ]
  },
  {
   "cell_type": "code",
   "execution_count": 195,
   "metadata": {
    "ExecuteTime": {
     "end_time": "2024-01-25T16:23:26.569293100Z",
     "start_time": "2024-01-25T16:23:26.544105Z"
    },
    "collapsed": false,
    "jupyter": {
     "outputs_hidden": false
    }
   },
   "outputs": [
    {
     "data": {
      "text/html": [
       "<div>\n",
       "<style scoped>\n",
       "    .dataframe tbody tr th:only-of-type {\n",
       "        vertical-align: middle;\n",
       "    }\n",
       "\n",
       "    .dataframe tbody tr th {\n",
       "        vertical-align: top;\n",
       "    }\n",
       "\n",
       "    .dataframe thead th {\n",
       "        text-align: right;\n",
       "    }\n",
       "</style>\n",
       "<table border=\"1\" class=\"dataframe\">\n",
       "  <thead>\n",
       "    <tr style=\"text-align: right;\">\n",
       "      <th></th>\n",
       "      <th>Latest Installed Program Version</th>\n",
       "      <th>Number of Computers with Program Installed</th>\n",
       "    </tr>\n",
       "  </thead>\n",
       "  <tbody>\n",
       "    <tr>\n",
       "      <th>Quickpass</th>\n",
       "      <td>15.0.21225.01</td>\n",
       "      <td>24</td>\n",
       "    </tr>\n",
       "    <tr>\n",
       "      <th>1password</th>\n",
       "      <td>2.7.4</td>\n",
       "      <td>2</td>\n",
       "    </tr>\n",
       "    <tr>\n",
       "      <th>Bitwarden</th>\n",
       "      <td>Not Installed</td>\n",
       "      <td>0</td>\n",
       "    </tr>\n",
       "  </tbody>\n",
       "</table>\n",
       "</div>"
      ],
      "text/plain": [
       "          Latest Installed Program Version  Number of Computers with Program Installed\n",
       "Quickpass                    15.0.21225.01                                          24\n",
       "1password                            2.7.4                                           2\n",
       "Bitwarden                    Not Installed                                           0"
      ]
     },
     "execution_count": 195,
     "metadata": {},
     "output_type": "execute_result"
    }
   ],
   "source": [
    "# The below three queries retrieve the latest version of the given program that is installed on computers.\n",
    "\n",
    "latest_version_1pass = \"\"\"\n",
    "SELECT\n",
    "    program_version\n",
    "FROM installed_programs\n",
    "WHERE program_name LIKE '1pass%'\n",
    "ORDER BY program_name DESC\n",
    "LIMIT 1\n",
    "\"\"\"\n",
    "\n",
    "latest_version_quickpass = \"\"\"\n",
    "SELECT\n",
    "    program_version\n",
    "FROM installed_programs\n",
    "WHERE program_name LIKE 'quick%'\n",
    "ORDER BY program_name DESC\n",
    "LIMIT 1\n",
    "\"\"\"\n",
    "\n",
    "latest_version_bitwarden = \"\"\"\n",
    "SELECT\n",
    "    program_version\n",
    "FROM installed_programs\n",
    "WHERE program_name LIKE 'bit%'\n",
    "ORDER BY program_name DESC\n",
    "LIMIT 1\n",
    "\"\"\"\n",
    "\n",
    "onepass_version = pd.read_sql_query(latest_version_1pass, cms_database)\n",
    "quickpass_version = pd.read_sql_query(latest_version_quickpass, cms_database)\n",
    "bitwarden_version = pd.read_sql_query(latest_version_bitwarden, cms_database)\n",
    "\n",
    "if len(onepass_version) > 0:\n",
    "    onepass_version = onepass_version[\"program_version\"][0]\n",
    "else:\n",
    "    onepass_version = \"Not Installed\"\n",
    "\n",
    "if len(quickpass_version) > 0:\n",
    "    quickpass_version = quickpass_version[\"program_version\"][0]\n",
    "else:\n",
    "    quickpass_version = \"Not Installed\"\n",
    "\n",
    "if len(bitwarden_version) > 0:\n",
    "    bitwarden_version = bitwarden_version[\"program_version\"][0]\n",
    "else:\n",
    "    bitwarden_version = \"Not Installed\"\n",
    "\n",
    "# The three queries below count the number of computers (excluding duplicates) that have the given program installed.\n",
    "\n",
    "num_installed_1pass = \"\"\"\n",
    "SELECT\n",
    "    DISTINCT COUNT(program_name) AS 'number'\n",
    "FROM installed_programs\n",
    "WHERE program_name LIKE '1pass%'\n",
    "\"\"\"\n",
    "\n",
    "num_installed_quickpass = \"\"\"\n",
    "SELECT\n",
    "    DISTINCT COUNT(program_name) AS 'number'\n",
    "FROM installed_programs\n",
    "WHERE program_name LIKE 'quick%'\n",
    "\"\"\"\n",
    "\n",
    "num_installed_bitwarden = \"\"\"\n",
    "SELECT\n",
    "    DISTINCT count(program_name) AS 'number'\n",
    "FROM installed_programs\n",
    "WHERE program_name LIKE 'bit%'\n",
    "\"\"\"\n",
    "\n",
    "num_onepass_installs = pd.read_sql_query(num_installed_1pass, cms_database)[\"number\"][0]\n",
    "num_quickpass_installs = pd.read_sql_query(num_installed_quickpass, cms_database)[\"number\"][0]\n",
    "num_bitwarden_installs = pd.read_sql_query(num_installed_bitwarden, cms_database)[\"number\"][0]\n",
    "\n",
    "data = {\"Latest Installed Program Version\": [quickpass_version, onepass_version, bitwarden_version],\n",
    "       \"Number of Computers with Program Installed\": [num_quickpass_installs, num_onepass_installs, num_bitwarden_installs]}\n",
    "\n",
    "results = pd.DataFrame(data, index = [\"Quickpass\", \"1password\", \"Bitwarden\"])\n",
    "results"
   ]
  },
  {
   "cell_type": "markdown",
   "metadata": {
    "collapsed": false,
    "jupyter": {
     "outputs_hidden": false
    }
   },
   "source": [
    "<font size='5'> 2c. Report each program and the ratio of which computers out of all computers have said programs installed. Express the ratio in the format of “**X** out of **Y**“ computers and as a percentage rounded to the 2nd. Hint: To calculate the percentage, you will have to cast one of the numbers to a decimal by multiplying them by **1.0**.</font>"
   ]
  },
  {
   "cell_type": "code",
   "execution_count": 192,
   "metadata": {
    "ExecuteTime": {
     "end_time": "2024-01-25T16:23:26.575229100Z",
     "start_time": "2024-01-25T16:23:26.559692900Z"
    },
    "collapsed": false,
    "jupyter": {
     "outputs_hidden": false
    }
   },
   "outputs": [
    {
     "data": {
      "text/html": [
       "<div>\n",
       "<style scoped>\n",
       "    .dataframe tbody tr th:only-of-type {\n",
       "        vertical-align: middle;\n",
       "    }\n",
       "\n",
       "    .dataframe tbody tr th {\n",
       "        vertical-align: top;\n",
       "    }\n",
       "\n",
       "    .dataframe thead th {\n",
       "        text-align: right;\n",
       "    }\n",
       "</style>\n",
       "<table border=\"1\" class=\"dataframe\">\n",
       "  <thead>\n",
       "    <tr style=\"text-align: right;\">\n",
       "      <th></th>\n",
       "      <th>Ratio of Computers with Program</th>\n",
       "      <th>Percentage of Computers with Program</th>\n",
       "    </tr>\n",
       "  </thead>\n",
       "  <tbody>\n",
       "    <tr>\n",
       "      <th>Quickpass</th>\n",
       "      <td>24 out of 38</td>\n",
       "      <td>0.63</td>\n",
       "    </tr>\n",
       "    <tr>\n",
       "      <th>1password</th>\n",
       "      <td>2 out of 38</td>\n",
       "      <td>0.05</td>\n",
       "    </tr>\n",
       "    <tr>\n",
       "      <th>Bitwarden</th>\n",
       "      <td>0 out of 38</td>\n",
       "      <td>0.00</td>\n",
       "    </tr>\n",
       "  </tbody>\n",
       "</table>\n",
       "</div>"
      ],
      "text/plain": [
       "          Ratio of Computers with Program  Percentage of Computers with Program\n",
       "Quickpass                    24 out of 38                                  0.63\n",
       "1password                     2 out of 38                                  0.05\n",
       "Bitwarden                     0 out of 38                                  0.00"
      ]
     },
     "execution_count": 192,
     "metadata": {},
     "output_type": "execute_result"
    }
   ],
   "source": [
    "# Query to determine the total number of computers (excluding duplicates).\n",
    "\n",
    "total_computers_query = \"\"\"SELECT\n",
    "DISTINCT COUNT(computer_name)\n",
    "FROM computers\n",
    "\"\"\"\n",
    "\n",
    "num_computers = pd.read_sql_query(total_computers_query, cms_database)\n",
    "num_computers = num_computers[\"COUNT(computer_name)\"][0] * 1.0\n",
    "\n",
    "ratio_1pass = round(num_onepass_installs/num_computers, 2)\n",
    "ratio_quickpass = round(num_quickpass_installs/num_computers, 2)\n",
    "ratio_bitwarden = round(num_bitwarden_installs/num_computers, 2)\n",
    "\n",
    "num_computers = int(num_computers)\n",
    "\n",
    "data = {\"Ratio of Computers with Program\": [f\"{num_quickpass_installs} out of {num_computers}\",\n",
    "                                            f\"{num_onepass_installs} out of {num_computers}\",\n",
    "                                            f\"{num_bitwarden_installs} out of {num_computers}\"],\n",
    "       \"Percentage of Computers with Program\": [ratio_quickpass, ratio_1pass, ratio_bitwarden]}\n",
    "\n",
    "results = pd.DataFrame(data, index = [\"Quickpass\", \"1password\", \"Bitwarden\"])\n",
    "results"
   ]
  },
  {
   "cell_type": "markdown",
   "metadata": {
    "collapsed": false,
    "jupyter": {
     "outputs_hidden": false
    }
   },
   "source": [
    "<font size='5'>3a. Report which admin computers have logins on or later than May 2023, have **Python** installed on their computers and whose IP addresses are not in the IP whitelist table. Be sure to include the computer name, IP address and login timestamp; order the results by most recent date and computer name.</font>"
   ]
  },
  {
   "cell_type": "code",
   "execution_count": 198,
   "metadata": {
    "ExecuteTime": {
     "end_time": "2024-01-25T16:23:26.589982900Z",
     "start_time": "2024-01-25T16:23:26.575229100Z"
    },
    "collapsed": false,
    "jupyter": {
     "outputs_hidden": false
    }
   },
   "outputs": [
    {
     "data": {
      "text/html": [
       "<div>\n",
       "<style scoped>\n",
       "    .dataframe tbody tr th:only-of-type {\n",
       "        vertical-align: middle;\n",
       "    }\n",
       "\n",
       "    .dataframe tbody tr th {\n",
       "        vertical-align: top;\n",
       "    }\n",
       "\n",
       "    .dataframe thead th {\n",
       "        text-align: right;\n",
       "    }\n",
       "</style>\n",
       "<table border=\"1\" class=\"dataframe\">\n",
       "  <thead>\n",
       "    <tr style=\"text-align: right;\">\n",
       "      <th></th>\n",
       "      <th>Computer Name</th>\n",
       "      <th>Login IP Address</th>\n",
       "      <th>Date and Time of Login</th>\n",
       "    </tr>\n",
       "  </thead>\n",
       "  <tbody>\n",
       "    <tr>\n",
       "      <th>0</th>\n",
       "      <td>PLAINCORP-13</td>\n",
       "      <td>73.18.119.169</td>\n",
       "      <td>2023-07-19 15:56:48</td>\n",
       "    </tr>\n",
       "    <tr>\n",
       "      <th>1</th>\n",
       "      <td>PLAINCORP-13</td>\n",
       "      <td>73.18.119.169</td>\n",
       "      <td>2023-07-19 15:56:45</td>\n",
       "    </tr>\n",
       "    <tr>\n",
       "      <th>2</th>\n",
       "      <td>DESKTOP-AFKOOLQ</td>\n",
       "      <td>75.19.119.2</td>\n",
       "      <td>2023-06-20 15:00:10</td>\n",
       "    </tr>\n",
       "    <tr>\n",
       "      <th>3</th>\n",
       "      <td>DESKTOP-AFKOOLQ</td>\n",
       "      <td>185.159.158.100</td>\n",
       "      <td>2023-05-16 23:22:29</td>\n",
       "    </tr>\n",
       "  </tbody>\n",
       "</table>\n",
       "</div>"
      ],
      "text/plain": [
       "     Computer Name Login IP Address Date and Time of Login\n",
       "0     PLAINCORP-13    73.18.119.169    2023-07-19 15:56:48\n",
       "1     PLAINCORP-13    73.18.119.169    2023-07-19 15:56:45\n",
       "2  DESKTOP-AFKOOLQ      75.19.119.2    2023-06-20 15:00:10\n",
       "3  DESKTOP-AFKOOLQ  185.159.158.100    2023-05-16 23:22:29"
      ]
     },
     "execution_count": 198,
     "metadata": {},
     "output_type": "execute_result"
    }
   ],
   "source": [
    "# Query to select computers (excluding duplicates) that are classified as Admin, have Python installed,\n",
    "# the computer was used to login from May 2023 or later, and the IP address used to login was not\n",
    "# found in the IP whitelist table. The results are sorted by date and time descending, and the computer name descending.\n",
    "\n",
    "query = \"\"\"SELECT\n",
    "DISTINCT login_records.computer_name as 'Computer Name',\n",
    "            login_records.login_ip as 'Login IP Address',\n",
    "            login_records.login_timestamp as 'Date and Time of Login'\n",
    "FROM login_records JOIN computers ON login_records.computer_name = computers.computer_name\n",
    "JOIN installed_programs ON login_records.computer_name = installed_programs.computer_name\n",
    "JOIN ip_whitelist ON ip_whitelist.login_ip != login_records.login_ip\n",
    "WHERE computers.computer_type = \"Admin\" AND installed_programs.program_name LIKE \"Python%\"\n",
    "AND login_timestamp >= \"2023-05-01\" AND login_records.login_ip NOT IN (ip_whitelist.login_ip)\n",
    "ORDER BY login_records.computer_name DESC, login_records.login_timestamp DESC\n",
    "\"\"\"\n",
    "\n",
    "admin_computer_data = pd.read_sql_query(query, cms_database)\n",
    "admin_computer_data"
   ]
  },
  {
   "cell_type": "markdown",
   "metadata": {
    "collapsed": false,
    "jupyter": {
     "outputs_hidden": false
    }
   },
   "source": [
    "<font size='5'>3b. Below are the requirements for the modifications you should make to the PD output from **3a**, you cannot change the SQL query to meet these requirements:</font>\n",
    "- <font size='5'>Replace the 2nd and 4th octets of the IP address with **\\*** (e.g., 10.\\*.0.\\*). Your solution must use regex.</font>\n",
    "- <font size='5'>Format the login timestamp as the date only (e.g., 01/20/2024)</font>\n"
   ]
  },
  {
   "cell_type": "code",
   "execution_count": 204,
   "metadata": {
    "ExecuteTime": {
     "end_time": "2024-01-25T16:23:26.617176400Z",
     "start_time": "2024-01-25T16:23:26.590980200Z"
    },
    "collapsed": false,
    "jupyter": {
     "outputs_hidden": false
    }
   },
   "outputs": [
    {
     "data": {
      "text/html": [
       "<div>\n",
       "<style scoped>\n",
       "    .dataframe tbody tr th:only-of-type {\n",
       "        vertical-align: middle;\n",
       "    }\n",
       "\n",
       "    .dataframe tbody tr th {\n",
       "        vertical-align: top;\n",
       "    }\n",
       "\n",
       "    .dataframe thead th {\n",
       "        text-align: right;\n",
       "    }\n",
       "</style>\n",
       "<table border=\"1\" class=\"dataframe\">\n",
       "  <thead>\n",
       "    <tr style=\"text-align: right;\">\n",
       "      <th></th>\n",
       "      <th>Computer Name</th>\n",
       "      <th>Login IP Address</th>\n",
       "      <th>Login Date</th>\n",
       "    </tr>\n",
       "  </thead>\n",
       "  <tbody>\n",
       "    <tr>\n",
       "      <th>0</th>\n",
       "      <td>PLAINCORP-13</td>\n",
       "      <td>73.*.119.*</td>\n",
       "      <td>2023-07-19</td>\n",
       "    </tr>\n",
       "    <tr>\n",
       "      <th>1</th>\n",
       "      <td>PLAINCORP-13</td>\n",
       "      <td>73.*.119.*</td>\n",
       "      <td>2023-07-19</td>\n",
       "    </tr>\n",
       "    <tr>\n",
       "      <th>2</th>\n",
       "      <td>DESKTOP-AFKOOLQ</td>\n",
       "      <td>75.*.119.*</td>\n",
       "      <td>2023-06-20</td>\n",
       "    </tr>\n",
       "    <tr>\n",
       "      <th>3</th>\n",
       "      <td>DESKTOP-AFKOOLQ</td>\n",
       "      <td>185.*.158.*</td>\n",
       "      <td>2023-05-16</td>\n",
       "    </tr>\n",
       "  </tbody>\n",
       "</table>\n",
       "</div>"
      ],
      "text/plain": [
       "     Computer Name Login IP Address  Login Date\n",
       "0     PLAINCORP-13       73.*.119.*  2023-07-19\n",
       "1     PLAINCORP-13       73.*.119.*  2023-07-19\n",
       "2  DESKTOP-AFKOOLQ       75.*.119.*  2023-06-20\n",
       "3  DESKTOP-AFKOOLQ      185.*.158.*  2023-05-16"
      ]
     },
     "execution_count": 204,
     "metadata": {},
     "output_type": "execute_result"
    }
   ],
   "source": [
    "def reformat_ip_address(ip_address):\n",
    "    \"\"\"\n",
    "    Replaces the 2nd and 4th octets of the IP address with an asterisk.\n",
    "    \n",
    "    Example: 1.1.1.1 --> 1.*.1.*\n",
    "    \"\"\"\n",
    "    \n",
    "    ip_address = ip_address.split(\".\")\n",
    "    pattern1 = fr'\\b{ip_address[1]}\\b'\n",
    "    pattern2 = fr'\\b{ip_address[3]}\\b'\n",
    "\n",
    "    new_second_octet = re.sub(pattern1, \"*\", ip_address[1])\n",
    "    new_fourth_octet = re.sub(pattern2, \"*\", ip_address[3])\n",
    "    return \".\".join([ip_address[0], new_second_octet, ip_address[2], new_fourth_octet])\n",
    "\n",
    "def format_date(date):\n",
    "    \"\"\"\n",
    "    Returns the date in yyyy-mm-dd format.\n",
    "\n",
    "    Example: 2023-07-19 15:56:48 --> 2023-07-19\n",
    "    \"\"\"\n",
    "    \n",
    "    return date[0:10]\n",
    "\n",
    "revised_admin_data = admin_computer_data\n",
    "\n",
    "# Rename column 'Date and Time of Login' to 'Login Date'.\n",
    "revised_admin_data = revised_admin_data.rename(columns = {\"Date and Time of Login\": \"Login Date\"})\n",
    "\n",
    "# Change the IP addresses to replace the 2nd and 4th octets with an asterisk.\n",
    "revised_admin_data[\"Login IP Address\"] = revised_admin_data[\"Login IP Address\"].apply(reformat_ip_address)\n",
    "\n",
    "# Change the dates to yyyy-mm-dd format.\n",
    "revised_admin_data[\"Login Date\"] = revised_admin_data[\"Login Date\"].apply(format_date)\n",
    "\n",
    "revised_admin_data"
   ]
  },
  {
   "cell_type": "markdown",
   "metadata": {
    "collapsed": false,
    "jupyter": {
     "outputs_hidden": false
    }
   },
   "source": [
    "<font size='5'>4. Bob from the IT department noticed a SQL query was starting to get slow and since he knew a little bit of SQL from college, he decided to fix the query himself. The first thing Bob did was to reduce the number of unnecessary joins in the query, but the new query was still slow. Was Bob’s initial approach the correct one? If so, explain Bob's next steps? If not, explain what Bob should've done instead?</font>"
   ]
  },
  {
   "cell_type": "markdown",
   "metadata": {
    "ExecuteTime": {
     "end_time": "2024-01-25T16:23:26.638106Z",
     "start_time": "2024-01-25T16:23:26.606618800Z"
    },
    "collapsed": false,
    "jupyter": {
     "outputs_hidden": false
    }
   },
   "source": [
    "Bob's initial approach was correct.\n",
    "\n",
    "His next steps would be to only include columns from the tables that are necessary, since it would take additional\n",
    "time to retrieve data from the extraneous columns and splitting up the query into smaller queries. This is because\n",
    "it would take less time to process each individual query, which could decrease the amount of time it takes to process all queries."
   ]
  },
  {
   "cell_type": "markdown",
   "metadata": {
    "collapsed": false,
    "jupyter": {
     "outputs_hidden": false
    }
   },
   "source": [
    "<font size='5'>5. To improve the CMS’s backend and report capabilities, the IT department wants to provide feedback to the contractor who built the CMS solution and wants your input.  How would you improve or change the data model? If you decide to create a data diagram you must save it as a PDF file in the same folder as this Jupyter Notebook.</font>"
   ]
  },
  {
   "cell_type": "markdown",
   "metadata": {
    "ExecuteTime": {
     "end_time": "2024-01-25T16:23:26.638106Z",
     "start_time": "2024-01-25T16:23:26.622082200Z"
    },
    "collapsed": false,
    "jupyter": {
     "outputs_hidden": false
    }
   },
   "source": [
    "To change the data model, I would add a new column in the login_records table called \"is_ip_address_on_ip_whitelist\"\n",
    "that has the value of true if a given IP address can be found in the login_ip column in the ip_whitelist table and false otherwise."
   ]
  },
  {
   "cell_type": "markdown",
   "metadata": {
    "collapsed": false,
    "jupyter": {
     "outputs_hidden": false
    }
   },
   "source": [
    "<font size='5'>6. Did you notice anything interesting or anything wrong with the data? If so, please describe what you found and if possible, provide any related evidence.</font>"
   ]
  },
  {
   "cell_type": "code",
   "execution_count": 205,
   "metadata": {
    "ExecuteTime": {
     "end_time": "2024-01-25T16:23:26.660272600Z",
     "start_time": "2024-01-25T16:23:26.638106Z"
    },
    "collapsed": false,
    "jupyter": {
     "outputs_hidden": false
    }
   },
   "outputs": [
    {
     "data": {
      "text/html": [
       "<div>\n",
       "<style scoped>\n",
       "    .dataframe tbody tr th:only-of-type {\n",
       "        vertical-align: middle;\n",
       "    }\n",
       "\n",
       "    .dataframe tbody tr th {\n",
       "        vertical-align: top;\n",
       "    }\n",
       "\n",
       "    .dataframe thead th {\n",
       "        text-align: right;\n",
       "    }\n",
       "</style>\n",
       "<table border=\"1\" class=\"dataframe\">\n",
       "  <thead>\n",
       "    <tr style=\"text-align: right;\">\n",
       "      <th></th>\n",
       "      <th>login_record_id</th>\n",
       "      <th>computer_name</th>\n",
       "      <th>login_ip</th>\n",
       "      <th>login_timestamp</th>\n",
       "    </tr>\n",
       "  </thead>\n",
       "  <tbody>\n",
       "    <tr>\n",
       "      <th>0</th>\n",
       "      <td>69</td>\n",
       "      <td>WORK-CC</td>\n",
       "      <td>196.111.92.7</td>\n",
       "      <td>2023-10-26 19:28:03</td>\n",
       "    </tr>\n",
       "    <tr>\n",
       "      <th>1</th>\n",
       "      <td>50</td>\n",
       "      <td>WINDEV2303EVAL</td>\n",
       "      <td>99.183.189.1</td>\n",
       "      <td>2023-04-10 19:08:07</td>\n",
       "    </tr>\n",
       "    <tr>\n",
       "      <th>2</th>\n",
       "      <td>51</td>\n",
       "      <td>WINDEV2303EVAL</td>\n",
       "      <td>99.183.189.1</td>\n",
       "      <td>2023-04-10 19:08:11</td>\n",
       "    </tr>\n",
       "    <tr>\n",
       "      <th>3</th>\n",
       "      <td>38</td>\n",
       "      <td>WIN11-DUTCH</td>\n",
       "      <td>72.21.201.195</td>\n",
       "      <td>2023-01-12 21:23:42</td>\n",
       "    </tr>\n",
       "    <tr>\n",
       "      <th>4</th>\n",
       "      <td>39</td>\n",
       "      <td>WIN11-DUTCH</td>\n",
       "      <td>72.21.201.195</td>\n",
       "      <td>2023-01-12 21:23:43</td>\n",
       "    </tr>\n",
       "    <tr>\n",
       "      <th>5</th>\n",
       "      <td>40</td>\n",
       "      <td>WIN11-DUTCH</td>\n",
       "      <td>72.21.201.195</td>\n",
       "      <td>2023-01-12 21:23:43</td>\n",
       "    </tr>\n",
       "    <tr>\n",
       "      <th>6</th>\n",
       "      <td>41</td>\n",
       "      <td>WIN11-DUTCH</td>\n",
       "      <td>72.21.201.195</td>\n",
       "      <td>2023-01-12 21:23:45</td>\n",
       "    </tr>\n",
       "    <tr>\n",
       "      <th>7</th>\n",
       "      <td>42</td>\n",
       "      <td>WIN-4TLVKKSI3FQ</td>\n",
       "      <td>72.21.201.195</td>\n",
       "      <td>2022-05-19 18:20:27</td>\n",
       "    </tr>\n",
       "    <tr>\n",
       "      <th>8</th>\n",
       "      <td>20</td>\n",
       "      <td>TP-6806</td>\n",
       "      <td>74.105.105.185</td>\n",
       "      <td>2022-04-20 21:34:04</td>\n",
       "    </tr>\n",
       "    <tr>\n",
       "      <th>9</th>\n",
       "      <td>22</td>\n",
       "      <td>TP-6806</td>\n",
       "      <td>74.105.105.185</td>\n",
       "      <td>2022-04-13 12:49:08</td>\n",
       "    </tr>\n",
       "  </tbody>\n",
       "</table>\n",
       "</div>"
      ],
      "text/plain": [
       "   login_record_id    computer_name        login_ip      login_timestamp\n",
       "0               69          WORK-CC    196.111.92.7  2023-10-26 19:28:03\n",
       "1               50   WINDEV2303EVAL    99.183.189.1  2023-04-10 19:08:07\n",
       "2               51   WINDEV2303EVAL    99.183.189.1  2023-04-10 19:08:11\n",
       "3               38      WIN11-DUTCH   72.21.201.195  2023-01-12 21:23:42\n",
       "4               39      WIN11-DUTCH   72.21.201.195  2023-01-12 21:23:43\n",
       "5               40      WIN11-DUTCH   72.21.201.195  2023-01-12 21:23:43\n",
       "6               41      WIN11-DUTCH   72.21.201.195  2023-01-12 21:23:45\n",
       "7               42  WIN-4TLVKKSI3FQ   72.21.201.195  2022-05-19 18:20:27\n",
       "8               20          TP-6806  74.105.105.185  2022-04-20 21:34:04\n",
       "9               22          TP-6806  74.105.105.185  2022-04-13 12:49:08"
      ]
     },
     "execution_count": 205,
     "metadata": {},
     "output_type": "execute_result"
    }
   ],
   "source": [
    "# There was at least one instance where there were dulicate rows in the data.\n",
    "# Here is an example, with the duplicates seen in rows 4 and 5 (excluding the login_record_id):\n",
    "\n",
    "query = \"\"\"SELECT * FROM login_records ORDER BY computer_name DESC LIMIT 10\"\"\"\n",
    "\n",
    "results = pd.read_sql_query(query, cms_database)\n",
    "results"
   ]
  },
  {
   "cell_type": "code",
   "execution_count": null,
   "metadata": {},
   "outputs": [],
   "source": [
    "# Close the connection to the database.\n",
    "\n",
    "cms_database.close()"
   ]
  }
 ],
 "metadata": {
  "kernelspec": {
   "display_name": "Python 3 (ipykernel)",
   "language": "python",
   "name": "python3"
  },
  "language_info": {
   "codemirror_mode": {
    "name": "ipython",
    "version": 3
   },
   "file_extension": ".py",
   "mimetype": "text/x-python",
   "name": "python",
   "nbconvert_exporter": "python",
   "pygments_lexer": "ipython3",
   "version": "3.11.9"
  }
 },
 "nbformat": 4,
 "nbformat_minor": 4
}
